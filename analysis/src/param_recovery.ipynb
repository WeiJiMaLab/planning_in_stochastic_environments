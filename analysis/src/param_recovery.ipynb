{
 "cells": [
  {
   "cell_type": "code",
   "execution_count": null,
   "metadata": {},
   "outputs": [],
   "source": [
    "import sys, os\n",
    "#this is a comment\n",
    "currentdir = os.getcwd()\n",
    "parentdir = os.path.dirname(currentdir) + \"/src/\"\n",
    "sys.path.insert(0, parentdir) \n",
    "\n",
    "from modeling import *\n",
    "from modelchecking import *\n",
    "from analysis import *\n",
    "from helper import *\n",
    "%load_ext autoreload\n",
    "%autoreload 2"
   ]
  },
  {
   "cell_type": "code",
   "execution_count": null,
   "metadata": {},
   "outputs": [],
   "source": [
    "import glob\n",
    "import pandas as pd\n",
    "\n",
    "# Define the type_ variable (you may need to set this based on your context)\n",
    "type_ = 'R'  # Replace 'your_type_here' with the actual type you want to use\n",
    "\n",
    "# Construct the file path pattern\n",
    "file_pattern = f'../data/sim/simdf_{type_}.pkl'\n",
    "\n",
    "# Use glob to find the pkl file\n",
    "pkl_files = glob.glob(file_pattern)\n",
    "\n",
    "# Check if any files were found\n",
    "if pkl_files:\n",
    "    print(f'Found pkl files: {pkl_files}')\n",
    "    true = pd.read_pickle(file_pattern)\n",
    "else:\n",
    "    print('No pkl files found.')"
   ]
  },
  {
   "cell_type": "code",
   "execution_count": 78,
   "metadata": {},
   "outputs": [],
   "source": [
    "import glob\n",
    "import json\n",
    "\n",
    "# Construct the file path pattern for JSON files\n",
    "json_file_pattern = f'../data/sim/fit/{type_}_value_path.filter_depth'\n",
    "\n",
    "data_list = []\n",
    "# Use glob to find the JSON files\n",
    "for username in true.username:\n",
    "    with open(f\"{json_file_pattern}/{username}.json\", 'r') as json_file:\n",
    "        json_data = json.load(json_file)\n",
    "        json_data = json_data | {float(key): value for key, value in json_data[\"filter_params\"].items()}\n",
    "        json_data[\"username\"] = username\n",
    "        data_list.append(json_data)\n",
    "\n",
    "df = pd.DataFrame(data_list)\n"
   ]
  },
  {
   "cell_type": "code",
   "execution_count": null,
   "metadata": {},
   "outputs": [],
   "source": [
    "import matplotlib.pyplot as plt\n",
    "from utils import get_conditions\n",
    "\n",
    "plt.figure(figsize = (3, 3))\n",
    "plt.scatter(true.inv_temp, df.inv_temp)\n",
    "plt.xlabel('True Inverse Temperature')  # Add x-label\n",
    "plt.ylabel('Recovered Inverse Temperature')  # Add y-label\n",
    "\n",
    "for i in get_conditions(type_):\n",
    "    plt.figure(figsize = (3, 3))\n",
    "    plt.scatter(true[i], df[i], alpha=0.3)\n",
    "    plt.xlabel(f'True Depth Cond {i}')  # Add x-label for each condition\n",
    "    plt.ylabel(f'Recovered Depth Cond {i}')  # Add y-label for each condition\n",
    "    r_squared = np.corrcoef(true[i], df[i])[0, 1] ** 2\n",
    "    print(f'R squared for {i}: {r_squared:.4f}')"
   ]
  }
 ],
 "metadata": {
  "kernelspec": {
   "display_name": ".venv",
   "language": "python",
   "name": "python3"
  },
  "language_info": {
   "codemirror_mode": {
    "name": "ipython",
    "version": 3
   },
   "file_extension": ".py",
   "mimetype": "text/x-python",
   "name": "python",
   "nbconvert_exporter": "python",
   "pygments_lexer": "ipython3",
   "version": "3.11.2"
  }
 },
 "nbformat": 4,
 "nbformat_minor": 2
}
